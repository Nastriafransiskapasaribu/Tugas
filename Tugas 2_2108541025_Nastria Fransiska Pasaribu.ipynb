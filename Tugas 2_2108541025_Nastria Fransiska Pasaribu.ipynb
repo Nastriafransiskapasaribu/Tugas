{
 "cells": [
  {
   "cell_type": "markdown",
   "id": "e937a3cb",
   "metadata": {},
   "source": [
    "# 5.12 list di phyton"
   ]
  },
  {
   "cell_type": "code",
   "execution_count": 1,
   "id": "db6c6e80",
   "metadata": {},
   "outputs": [
    {
     "name": "stdout",
     "output_type": "stream",
     "text": [
      "['jeruk', 'anggur', 'pisang', 'jambu']\n"
     ]
    }
   ],
   "source": [
    "buah = ['jeruk', 'anggur','pisang','jambu']\n",
    "print(buah)"
   ]
  },
  {
   "cell_type": "code",
   "execution_count": 2,
   "id": "f0837a9a",
   "metadata": {},
   "outputs": [
    {
     "name": "stdout",
     "output_type": "stream",
     "text": [
      "jeruk\n"
     ]
    }
   ],
   "source": [
    "print(buah[0])"
   ]
  },
  {
   "cell_type": "code",
   "execution_count": 3,
   "id": "bfee2cbf",
   "metadata": {},
   "outputs": [
    {
     "name": "stdout",
     "output_type": "stream",
     "text": [
      "pisang\n"
     ]
    }
   ],
   "source": [
    "print(buah[2])"
   ]
  },
  {
   "cell_type": "code",
   "execution_count": 4,
   "id": "65396915",
   "metadata": {},
   "outputs": [
    {
     "name": "stdout",
     "output_type": "stream",
     "text": [
      "jambu\n"
     ]
    }
   ],
   "source": [
    "print(buah[-1])"
   ]
  },
  {
   "cell_type": "code",
   "execution_count": 5,
   "id": "238dce8c",
   "metadata": {},
   "outputs": [
    {
     "name": "stdout",
     "output_type": "stream",
     "text": [
      "pisang\n"
     ]
    }
   ],
   "source": [
    "print(buah[-2])"
   ]
  },
  {
   "cell_type": "code",
   "execution_count": 6,
   "id": "29924bc7",
   "metadata": {},
   "outputs": [
    {
     "name": "stdout",
     "output_type": "stream",
     "text": [
      "['salak', 'anggur', 'pisang', 'jambu']\n"
     ]
    }
   ],
   "source": [
    "buah[0] = 'salak'\n",
    "print(buah)"
   ]
  },
  {
   "cell_type": "code",
   "execution_count": 7,
   "id": "af5426cc",
   "metadata": {},
   "outputs": [
    {
     "name": "stdout",
     "output_type": "stream",
     "text": [
      "['salak', 'anggur', 'pisang']\n"
     ]
    }
   ],
   "source": [
    "print(buah[0:3])"
   ]
  },
  {
   "cell_type": "code",
   "execution_count": 8,
   "id": "51514f42",
   "metadata": {},
   "outputs": [
    {
     "name": "stdout",
     "output_type": "stream",
     "text": [
      "['salak', 'anggur', 'pisang', 'jambu']\n"
     ]
    }
   ],
   "source": [
    "# tidak merubah list\n",
    "print(buah)"
   ]
  },
  {
   "cell_type": "markdown",
   "id": "81b75ac0",
   "metadata": {},
   "source": [
    "# 5.13 Metoda List"
   ]
  },
  {
   "cell_type": "code",
   "execution_count": 9,
   "id": "74ae3ac8",
   "metadata": {},
   "outputs": [
    {
     "name": "stdout",
     "output_type": "stream",
     "text": [
      "['Nastria', 'fransiska', 'Pasaribu']\n"
     ]
    }
   ],
   "source": [
    "nama = ['Nastria','fransiska']\n",
    "nama.append('Pasaribu')\n",
    "print(nama)\n",
    "        "
   ]
  },
  {
   "cell_type": "code",
   "execution_count": 10,
   "id": "beb77b53",
   "metadata": {},
   "outputs": [
    {
     "name": "stdout",
     "output_type": "stream",
     "text": [
      "['syantik', 'Nastria', 'fransiska', 'Pasaribu']\n"
     ]
    }
   ],
   "source": [
    "nama.insert(0,'syantik')\n",
    "print(nama)"
   ]
  },
  {
   "cell_type": "code",
   "execution_count": 11,
   "id": "eb5c8efd",
   "metadata": {},
   "outputs": [
    {
     "name": "stdout",
     "output_type": "stream",
     "text": [
      "['syantik', 'Nastria', 'Pasaribu']\n"
     ]
    }
   ],
   "source": [
    "nama.remove('fransiska')\n",
    "print(nama)"
   ]
  },
  {
   "cell_type": "code",
   "execution_count": 12,
   "id": "d5cb1a49",
   "metadata": {},
   "outputs": [
    {
     "name": "stdout",
     "output_type": "stream",
     "text": [
      "False\n"
     ]
    }
   ],
   "source": [
    "print('Syantik' in nama)"
   ]
  },
  {
   "cell_type": "code",
   "execution_count": 13,
   "id": "8ed6b6b5",
   "metadata": {},
   "outputs": [
    {
     "name": "stdout",
     "output_type": "stream",
     "text": [
      "False\n"
     ]
    }
   ],
   "source": [
    "print('fransiska' in nama)"
   ]
  },
  {
   "cell_type": "code",
   "execution_count": 14,
   "id": "f01ac4cd",
   "metadata": {},
   "outputs": [
    {
     "name": "stdout",
     "output_type": "stream",
     "text": [
      "3\n"
     ]
    }
   ],
   "source": [
    "print(len(nama))"
   ]
  },
  {
   "cell_type": "markdown",
   "id": "7905465b",
   "metadata": {},
   "source": [
    "# 5.14 For loop\n",
    "For loop dapat digunakan untuk memanggil semua isi list."
   ]
  },
  {
   "cell_type": "code",
   "execution_count": 15,
   "id": "c16c6b98",
   "metadata": {},
   "outputs": [
    {
     "name": "stdout",
     "output_type": "stream",
     "text": [
      "jambu\n",
      "nangka\n",
      "apel\n",
      "salak\n"
     ]
    }
   ],
   "source": [
    "buah = ['jambu','nangka','apel','salak']\n",
    "for jenis in buah:\n",
    "    print(jenis)"
   ]
  },
  {
   "cell_type": "code",
   "execution_count": 16,
   "id": "9482b603",
   "metadata": {},
   "outputs": [
    {
     "name": "stdout",
     "output_type": "stream",
     "text": [
      "jambu\n",
      "nangka\n",
      "apel\n",
      "salak\n"
     ]
    },
    {
     "ename": "IndexError",
     "evalue": "list index out of range",
     "output_type": "error",
     "traceback": [
      "\u001b[1;31m---------------------------------------------------------------------------\u001b[0m",
      "\u001b[1;31mIndexError\u001b[0m                                Traceback (most recent call last)",
      "\u001b[1;32m~\\AppData\\Local\\Temp/ipykernel_51772/1878645176.py\u001b[0m in \u001b[0;36m<module>\u001b[1;34m\u001b[0m\n\u001b[0;32m      1\u001b[0m \u001b[0mi\u001b[0m \u001b[1;33m=\u001b[0m \u001b[1;36m0\u001b[0m\u001b[1;33m\u001b[0m\u001b[1;33m\u001b[0m\u001b[0m\n\u001b[1;32m----> 2\u001b[1;33m \u001b[1;32mwhile\u001b[0m \u001b[0mi\u001b[0m \u001b[1;33m<\u001b[0m \u001b[0mlen\u001b[0m\u001b[1;33m(\u001b[0m\u001b[0mbuah\u001b[0m\u001b[1;33m[\u001b[0m\u001b[0mi\u001b[0m\u001b[1;33m]\u001b[0m\u001b[1;33m)\u001b[0m\u001b[1;33m:\u001b[0m\u001b[1;33m\u001b[0m\u001b[1;33m\u001b[0m\u001b[0m\n\u001b[0m\u001b[0;32m      3\u001b[0m     \u001b[0mprint\u001b[0m\u001b[1;33m(\u001b[0m\u001b[0mbuah\u001b[0m\u001b[1;33m[\u001b[0m\u001b[0mi\u001b[0m\u001b[1;33m]\u001b[0m\u001b[1;33m)\u001b[0m\u001b[1;33m\u001b[0m\u001b[1;33m\u001b[0m\u001b[0m\n\u001b[0;32m      4\u001b[0m     \u001b[0mi\u001b[0m\u001b[1;33m+=\u001b[0m\u001b[1;36m1\u001b[0m\u001b[1;33m\u001b[0m\u001b[1;33m\u001b[0m\u001b[0m\n",
      "\u001b[1;31mIndexError\u001b[0m: list index out of range"
     ]
    }
   ],
   "source": [
    "i = 0\n",
    "while i < len(buah[i]):\n",
    "    print(buah[i])\n",
    "    i+=1"
   ]
  },
  {
   "cell_type": "markdown",
   "id": "adb179c5",
   "metadata": {},
   "source": [
    "# 5.15 Fungsi range\n",
    "fungsi range berguna untuk membangkitkan bilangan berurutan atau berpola yang kita inginkan."
   ]
  },
  {
   "cell_type": "code",
   "execution_count": 17,
   "id": "5c77c4d1",
   "metadata": {},
   "outputs": [
    {
     "name": "stdout",
     "output_type": "stream",
     "text": [
      "range(0, 8)\n"
     ]
    }
   ],
   "source": [
    "angka = range(8)\n",
    "print(angka)"
   ]
  },
  {
   "cell_type": "code",
   "execution_count": 18,
   "id": "83d43d44",
   "metadata": {},
   "outputs": [
    {
     "name": "stdout",
     "output_type": "stream",
     "text": [
      "0\n",
      "1\n",
      "2\n",
      "3\n",
      "4\n",
      "5\n",
      "6\n",
      "7\n"
     ]
    }
   ],
   "source": [
    "for isi in angka:\n",
    "    print(isi)"
   ]
  },
  {
   "cell_type": "code",
   "execution_count": 19,
   "id": "3b8ce87c",
   "metadata": {},
   "outputs": [
    {
     "name": "stdout",
     "output_type": "stream",
     "text": [
      "5\n",
      "6\n",
      "7\n",
      "8\n",
      "9\n",
      "10\n",
      "11\n"
     ]
    }
   ],
   "source": [
    "for isi in range(5,12):\n",
    "    print(isi)"
   ]
  },
  {
   "cell_type": "code",
   "execution_count": 20,
   "id": "fad35aaf",
   "metadata": {},
   "outputs": [
    {
     "name": "stdout",
     "output_type": "stream",
     "text": [
      "0\n",
      "3\n",
      "6\n",
      "9\n",
      "12\n"
     ]
    }
   ],
   "source": [
    "for isi in range(0,14,3):\n",
    "    print(isi)"
   ]
  },
  {
   "cell_type": "markdown",
   "id": "01d42747",
   "metadata": {},
   "source": [
    "# latihan"
   ]
  },
  {
   "cell_type": "markdown",
   "id": "8577a7d7",
   "metadata": {},
   "source": [
    "# 1.buatlah program untuk mencari nilai terbesar didalam suatu list."
   ]
  },
  {
   "cell_type": "code",
   "execution_count": 21,
   "id": "ac59329f",
   "metadata": {},
   "outputs": [
    {
     "name": "stdout",
     "output_type": "stream",
     "text": [
      "9\n"
     ]
    }
   ],
   "source": [
    "data = [4,1,6,8,9,2,4,3,5]\n",
    "terbesar = data[0]\n",
    "for i in range(len(data)):\n",
    "    if data[i] > terbesar:\n",
    "        terbesar = data[i]\n",
    "print(terbesar)"
   ]
  },
  {
   "cell_type": "code",
   "execution_count": 22,
   "id": "d40e6d34",
   "metadata": {},
   "outputs": [
    {
     "name": "stdout",
     "output_type": "stream",
     "text": [
      "234567\n"
     ]
    }
   ],
   "source": [
    "data = [2,23,56789,234567,123,987,589,325,367,80,]\n",
    "terbesar = data[1]\n",
    "for angka in data:\n",
    "    if angka > terbesar:\n",
    "        terbesar = angka \n",
    "print(terbesar)"
   ]
  },
  {
   "cell_type": "markdown",
   "id": "a8d225b2",
   "metadata": {},
   "source": [
    "# 2. buatlah program untuk membuat anggota list menjadi unik dengan kata lain tidak ada anggota list yang kembar."
   ]
  },
  {
   "cell_type": "code",
   "execution_count": 23,
   "id": "36b1fc8f",
   "metadata": {},
   "outputs": [
    {
     "ename": "NameError",
     "evalue": "name 'anggota' is not defined",
     "output_type": "error",
     "traceback": [
      "\u001b[1;31m---------------------------------------------------------------------------\u001b[0m",
      "\u001b[1;31mNameError\u001b[0m                                 Traceback (most recent call last)",
      "\u001b[1;32m~\\AppData\\Local\\Temp/ipykernel_51772/1793599635.py\u001b[0m in \u001b[0;36m<module>\u001b[1;34m\u001b[0m\n\u001b[0;32m      3\u001b[0m \u001b[1;32mfor\u001b[0m \u001b[0mangka\u001b[0m \u001b[1;32min\u001b[0m \u001b[0mangka\u001b[0m\u001b[1;33m:\u001b[0m\u001b[1;33m\u001b[0m\u001b[1;33m\u001b[0m\u001b[0m\n\u001b[0;32m      4\u001b[0m     \u001b[1;32mif\u001b[0m \u001b[0mangka\u001b[0m \u001b[1;32mnot\u001b[0m \u001b[1;32min\u001b[0m \u001b[0mangka_unik\u001b[0m\u001b[1;33m:\u001b[0m\u001b[1;33m\u001b[0m\u001b[1;33m\u001b[0m\u001b[0m\n\u001b[1;32m----> 5\u001b[1;33m         \u001b[0mangka_unik\u001b[0m\u001b[1;33m.\u001b[0m\u001b[0mappend\u001b[0m\u001b[1;33m(\u001b[0m\u001b[0manggota\u001b[0m\u001b[1;33m)\u001b[0m\u001b[1;33m\u001b[0m\u001b[1;33m\u001b[0m\u001b[0m\n\u001b[0m\u001b[0;32m      6\u001b[0m \u001b[0mprint\u001b[0m\u001b[1;33m(\u001b[0m\u001b[0mangka_unik\u001b[0m\u001b[1;33m)\u001b[0m\u001b[1;33m\u001b[0m\u001b[1;33m\u001b[0m\u001b[0m\n",
      "\u001b[1;31mNameError\u001b[0m: name 'anggota' is not defined"
     ]
    }
   ],
   "source": [
    "angka = [9,3,4,1,6,0,8,5,7,8,1,]\n",
    "angka_unik = []\n",
    "for angka in angka:\n",
    "    if angka not in angka_unik:\n",
    "        angka_unik.append(anggota)\n",
    "print(angka_unik)"
   ]
  },
  {
   "cell_type": "markdown",
   "id": "ab1f4ff6",
   "metadata": {},
   "source": [
    "# list 2 dimensi\n",
    "list 2 dimensi pada umumnya adalah menempatkan sebuah list di dalam list. penggambarannya seperti sebuah matriks."
   ]
  },
  {
   "cell_type": "code",
   "execution_count": 24,
   "id": "8b6664b9",
   "metadata": {},
   "outputs": [
    {
     "name": "stdout",
     "output_type": "stream",
     "text": [
      "[[5, 6, 7, 8], [10, 11, 12, 13], [14, 15, 16, 17, 18]]\n"
     ]
    }
   ],
   "source": [
    "matrik = [\n",
    "    [5,6,7,8],\n",
    "    [10,11,12,13],\n",
    "    [14,15,16,17,18]\n",
    "]\n",
    "print(matrik)"
   ]
  },
  {
   "cell_type": "code",
   "execution_count": 25,
   "id": "253afb40",
   "metadata": {},
   "outputs": [
    {
     "data": {
      "text/plain": [
       "[10, 11, 12, 13]"
      ]
     },
     "execution_count": 25,
     "metadata": {},
     "output_type": "execute_result"
    }
   ],
   "source": [
    "matrik[1]"
   ]
  },
  {
   "cell_type": "code",
   "execution_count": 26,
   "id": "f71bf6eb",
   "metadata": {},
   "outputs": [
    {
     "data": {
      "text/plain": [
       "17"
      ]
     },
     "execution_count": 26,
     "metadata": {},
     "output_type": "execute_result"
    }
   ],
   "source": [
    "matrik[2][3]"
   ]
  },
  {
   "cell_type": "code",
   "execution_count": 27,
   "id": "f7735781",
   "metadata": {},
   "outputs": [
    {
     "name": "stdout",
     "output_type": "stream",
     "text": [
      "23456\n"
     ]
    }
   ],
   "source": [
    "matrik[1][2]=23456\n",
    "print(matrik[1][2])"
   ]
  },
  {
   "cell_type": "code",
   "execution_count": 28,
   "id": "0d5e93eb",
   "metadata": {},
   "outputs": [
    {
     "data": {
      "text/plain": [
       "[[5, 6, 7, 8], [10, 11, 23456, 13], [14, 15, 16, 17, 18]]"
      ]
     },
     "execution_count": 28,
     "metadata": {},
     "output_type": "execute_result"
    }
   ],
   "source": [
    "matrik"
   ]
  },
  {
   "cell_type": "code",
   "execution_count": 29,
   "id": "84b3467f",
   "metadata": {},
   "outputs": [
    {
     "name": "stdout",
     "output_type": "stream",
     "text": [
      "[5, 6, 7, 8]\n",
      "5\n",
      "6\n",
      "7\n",
      "8\n",
      "[10, 11, 23456, 13]\n",
      "10\n",
      "11\n",
      "23456\n",
      "13\n",
      "[14, 15, 16, 17, 18]\n",
      "14\n",
      "15\n",
      "16\n",
      "17\n",
      "18\n"
     ]
    }
   ],
   "source": [
    "for baris in matrik:\n",
    "    print(baris)\n",
    "    for kolom in baris:\n",
    "        print(kolom)"
   ]
  },
  {
   "cell_type": "markdown",
   "id": "f6276495",
   "metadata": {},
   "source": [
    "# 5.17 Tuples\n",
    "tuples mirip dengan list, akan tetapi tuples tidak dapat merubah isinya. jika kita memiliki data yang tidak ingin dirubah isinya,kita gunakan tuples,sedangkan jika datanya masih ingin dimanipulasi kedepannya gunakan list."
   ]
  },
  {
   "cell_type": "code",
   "execution_count": 30,
   "id": "1eb867f4",
   "metadata": {},
   "outputs": [
    {
     "name": "stdout",
     "output_type": "stream",
     "text": [
      "6\n"
     ]
    }
   ],
   "source": [
    "angka = (2,4,6,4,2,1,4,6,2,7)\n",
    "print(angka[2])"
   ]
  },
  {
   "cell_type": "code",
   "execution_count": 31,
   "id": "ffc32908",
   "metadata": {},
   "outputs": [
    {
     "name": "stdout",
     "output_type": "stream",
     "text": [
      "(6, 4)\n"
     ]
    }
   ],
   "source": [
    "print(angka[2:4])"
   ]
  },
  {
   "cell_type": "code",
   "execution_count": 32,
   "id": "b009646d",
   "metadata": {},
   "outputs": [
    {
     "name": "stdout",
     "output_type": "stream",
     "text": [
      "6\n",
      "4\n"
     ]
    }
   ],
   "source": [
    "for isi in angka[2:4]:\n",
    "    print(isi)"
   ]
  },
  {
   "cell_type": "code",
   "execution_count": 33,
   "id": "9e90ac30",
   "metadata": {},
   "outputs": [
    {
     "data": {
      "text/plain": [
       "2"
      ]
     },
     "execution_count": 33,
     "metadata": {},
     "output_type": "execute_result"
    }
   ],
   "source": [
    "angka[0]"
   ]
  },
  {
   "cell_type": "code",
   "execution_count": 34,
   "id": "66bc4288",
   "metadata": {},
   "outputs": [
    {
     "ename": "AttributeError",
     "evalue": "'tuple' object has no attribute 'append'",
     "output_type": "error",
     "traceback": [
      "\u001b[1;31m---------------------------------------------------------------------------\u001b[0m",
      "\u001b[1;31mAttributeError\u001b[0m                            Traceback (most recent call last)",
      "\u001b[1;32m~\\AppData\\Local\\Temp/ipykernel_51772/1086000304.py\u001b[0m in \u001b[0;36m<module>\u001b[1;34m\u001b[0m\n\u001b[1;32m----> 1\u001b[1;33m \u001b[0mangka\u001b[0m\u001b[1;33m.\u001b[0m\u001b[0mappend\u001b[0m\u001b[1;33m(\u001b[0m\u001b[1;36m10\u001b[0m\u001b[1;33m)\u001b[0m\u001b[1;33m\u001b[0m\u001b[1;33m\u001b[0m\u001b[0m\n\u001b[0m",
      "\u001b[1;31mAttributeError\u001b[0m: 'tuple' object has no attribute 'append'"
     ]
    }
   ],
   "source": [
    "angka.append(10)"
   ]
  },
  {
   "cell_type": "code",
   "execution_count": 35,
   "id": "5593d46c",
   "metadata": {},
   "outputs": [
    {
     "ename": "AttributeError",
     "evalue": "'tuple' object has no attribute 'remove'",
     "output_type": "error",
     "traceback": [
      "\u001b[1;31m---------------------------------------------------------------------------\u001b[0m",
      "\u001b[1;31mAttributeError\u001b[0m                            Traceback (most recent call last)",
      "\u001b[1;32m~\\AppData\\Local\\Temp/ipykernel_51772/2298564591.py\u001b[0m in \u001b[0;36m<module>\u001b[1;34m\u001b[0m\n\u001b[1;32m----> 1\u001b[1;33m \u001b[0mangka\u001b[0m\u001b[1;33m.\u001b[0m\u001b[0mremove\u001b[0m\u001b[1;33m(\u001b[0m\u001b[1;36m5\u001b[0m\u001b[1;33m)\u001b[0m\u001b[1;33m\u001b[0m\u001b[1;33m\u001b[0m\u001b[0m\n\u001b[0m",
      "\u001b[1;31mAttributeError\u001b[0m: 'tuple' object has no attribute 'remove'"
     ]
    }
   ],
   "source": [
    "angka.remove(5)"
   ]
  },
  {
   "cell_type": "code",
   "execution_count": 36,
   "id": "68e43290",
   "metadata": {},
   "outputs": [
    {
     "data": {
      "text/plain": [
       "1"
      ]
     },
     "execution_count": 36,
     "metadata": {},
     "output_type": "execute_result"
    }
   ],
   "source": [
    "angka.count(1)"
   ]
  },
  {
   "cell_type": "code",
   "execution_count": 37,
   "id": "615147ed",
   "metadata": {},
   "outputs": [
    {
     "data": {
      "text/plain": [
       "1"
      ]
     },
     "execution_count": 37,
     "metadata": {},
     "output_type": "execute_result"
    }
   ],
   "source": [
    "angka.index(4)"
   ]
  },
  {
   "cell_type": "markdown",
   "id": "c9314080",
   "metadata": {},
   "source": [
    "# 5.18 Dictionaries\n",
    "dictionaries digunakan juka data nya terkait satu sama lain. misalnya data seseorang yang terdisri dari umur,nama, tanggal lahir merupakan satu kesatuan data yang bersumber dari orang tersebut."
   ]
  },
  {
   "cell_type": "code",
   "execution_count": 38,
   "id": "8977b44a",
   "metadata": {},
   "outputs": [
    {
     "name": "stdout",
     "output_type": "stream",
     "text": [
      "Nas Pasaribu\n"
     ]
    }
   ],
   "source": [
    "data_orang = {\n",
    "    \"nama\" : \"Nas Pasaribu\",\n",
    "    \"umur\" : 19,\n",
    "    \"apakah_singel\" : False\n",
    "}\n",
    "print(data_orang['nama'])"
   ]
  },
  {
   "cell_type": "code",
   "execution_count": 39,
   "id": "b3377ed3",
   "metadata": {},
   "outputs": [
    {
     "name": "stdout",
     "output_type": "stream",
     "text": [
      "Nas Pasaribu\n"
     ]
    }
   ],
   "source": [
    "print(data_orang.get('nama'))"
   ]
  },
  {
   "cell_type": "code",
   "execution_count": 40,
   "id": "3fbb6e2e",
   "metadata": {},
   "outputs": [
    {
     "ename": "KeyError",
     "evalue": "'Nama'",
     "output_type": "error",
     "traceback": [
      "\u001b[1;31m---------------------------------------------------------------------------\u001b[0m",
      "\u001b[1;31mKeyError\u001b[0m                                  Traceback (most recent call last)",
      "\u001b[1;32m~\\AppData\\Local\\Temp/ipykernel_51772/1883148979.py\u001b[0m in \u001b[0;36m<module>\u001b[1;34m\u001b[0m\n\u001b[1;32m----> 1\u001b[1;33m \u001b[0mprint\u001b[0m\u001b[1;33m(\u001b[0m\u001b[0mdata_orang\u001b[0m\u001b[1;33m[\u001b[0m\u001b[1;34m'Nama'\u001b[0m\u001b[1;33m]\u001b[0m\u001b[1;33m)\u001b[0m\u001b[1;33m\u001b[0m\u001b[1;33m\u001b[0m\u001b[0m\n\u001b[0m",
      "\u001b[1;31mKeyError\u001b[0m: 'Nama'"
     ]
    }
   ],
   "source": [
    "print(data_orang['Nama'])"
   ]
  },
  {
   "cell_type": "code",
   "execution_count": 41,
   "id": "38c5a609",
   "metadata": {},
   "outputs": [
    {
     "name": "stdout",
     "output_type": "stream",
     "text": [
      "6-7-2002\n"
     ]
    }
   ],
   "source": [
    "print(data_orang.get('tanggal_lahir','6-7-2002'))"
   ]
  },
  {
   "cell_type": "code",
   "execution_count": 42,
   "id": "9f98f693",
   "metadata": {},
   "outputs": [
    {
     "name": "stdout",
     "output_type": "stream",
     "text": [
      "{'nama': 'Nas Pasaribu', 'umur': 19, 'apakah_singel': False}\n"
     ]
    }
   ],
   "source": [
    "print(data_orang)"
   ]
  },
  {
   "cell_type": "code",
   "execution_count": 43,
   "id": "f17961b3",
   "metadata": {},
   "outputs": [],
   "source": [
    "data_orang['NIM'] = '2108541025'"
   ]
  },
  {
   "cell_type": "code",
   "execution_count": 44,
   "id": "5b5669d7",
   "metadata": {},
   "outputs": [
    {
     "name": "stdout",
     "output_type": "stream",
     "text": [
      "2108541025\n"
     ]
    }
   ],
   "source": [
    "print(data_orang[\"NIM\"])"
   ]
  },
  {
   "cell_type": "code",
   "execution_count": 45,
   "id": "bbf45fbd",
   "metadata": {},
   "outputs": [
    {
     "name": "stdout",
     "output_type": "stream",
     "text": [
      "{'nama': 'Nas Pasaribu', 'umur': 19, 'apakah_singel': False, 'NIM': '2108541025'}\n"
     ]
    }
   ],
   "source": [
    "print(data_orang)"
   ]
  },
  {
   "cell_type": "code",
   "execution_count": 46,
   "id": "bb0865e7",
   "metadata": {},
   "outputs": [
    {
     "name": "stdout",
     "output_type": "stream",
     "text": [
      "Ungasan\n"
     ]
    }
   ],
   "source": [
    "data_orang['Alamat'] = 'Ungasan'\n",
    "print(data_orang['Alamat'])"
   ]
  },
  {
   "cell_type": "code",
   "execution_count": 47,
   "id": "6e61f058",
   "metadata": {},
   "outputs": [
    {
     "name": "stdout",
     "output_type": "stream",
     "text": [
      "{'nama': 'Nas Pasaribu', 'umur': 19, 'apakah_singel': False, 'NIM': '2108541025', 'Alamat': 'Ungasan'}\n"
     ]
    }
   ],
   "source": [
    "print(data_orang)"
   ]
  },
  {
   "cell_type": "markdown",
   "id": "7ab8abf1",
   "metadata": {},
   "source": [
    "# latihan\n",
    "buatlah program untuk merubah no hp yang tadinya beruoa angka menjadi sebutan bilangan tersebut. Misalnya angka 0812 menjadi nol delapan satu dua"
   ]
  },
  {
   "cell_type": "code",
   "execution_count": 48,
   "id": "beb7f3fd",
   "metadata": {},
   "outputs": [
    {
     "ename": "SyntaxError",
     "evalue": "invalid syntax (Temp/ipykernel_51772/854846758.py, line 3)",
     "output_type": "error",
     "traceback": [
      "\u001b[1;36m  File \u001b[1;32m\"C:\\Users\\nastria\\AppData\\Local\\Temp/ipykernel_51772/854846758.py\"\u001b[1;36m, line \u001b[1;32m3\u001b[0m\n\u001b[1;33m    \"1\" : \"satu\"\u001b[0m\n\u001b[1;37m        ^\u001b[0m\n\u001b[1;31mSyntaxError\u001b[0m\u001b[1;31m:\u001b[0m invalid syntax\n"
     ]
    }
   ],
   "source": [
    "angka ={\n",
    "    \"0\" : \"nol\"\n",
    "    \"1\" : \"satu\"\n",
    "    \"2\" : \"dua\"\n",
    "    \"3\" : \"tiga\"\n",
    "    \"4\" : \"empat\"\n",
    "    \"5\" : \"lima\"\n",
    "    \"6\" : \"enam\"\n",
    "    \"7\" : \"tujuh\"\n",
    "    \"8\" : \"delapan\"\n",
    "    \"9\" : \" sembilan\"\n",
    "}"
   ]
  },
  {
   "cell_type": "code",
   "execution_count": null,
   "id": "37d81432",
   "metadata": {},
   "outputs": [],
   "source": [
    "nomor_HP = input(\"Masukkan nomor HP anda\")\n",
    "nomor_angka = \" \"\n",
    "for isi in nomor_HP:\n",
    "    nomor_angka += angka.get(isi) + \" \"\n",
    "print(nomor_angka)"
   ]
  },
  {
   "cell_type": "code",
   "execution_count": null,
   "id": "b2a0c441",
   "metadata": {},
   "outputs": [],
   "source": [
    "nomor_HP = input(\"Masukkan nomor HP anda \")\n",
    "nomor_angka = \"1. \"\n",
    "for isi in nomor_HP:\n",
    "    nomor_angka += angka.get(isi) +\" \"\n",
    "    print(nomor_angka)"
   ]
  },
  {
   "cell_type": "markdown",
   "id": "5fc7f82b",
   "metadata": {},
   "source": [
    "# Fungsi dalam python\n",
    "pada dasarnya fungsi dibentuk untuk menghindari pengulangan pembuatan program secara manual dimana fungsi tersebut memiliki pengulangan yang tinggidalam program yang kita buat."
   ]
  },
  {
   "cell_type": "code",
   "execution_count": null,
   "id": "0fe1644e",
   "metadata": {},
   "outputs": [],
   "source": [
    "first_name = input(\"Nama depan anda adalah Nastria \")\n",
    "last_name = input(\"Nama belakang anda adalah Pasaribu\")\n",
    "full_nama(first_name,last_name)"
   ]
  },
  {
   "cell_type": "markdown",
   "id": "391caac6",
   "metadata": {},
   "source": [
    "# 5.19.1 Tugas Fungsi Pada python"
   ]
  },
  {
   "cell_type": "code",
   "execution_count": null,
   "id": "c64face7",
   "metadata": {},
   "outputs": [],
   "source": [
    "def waktu_sampai(jarak,kecepatan):\n",
    "    waktu = jarak/kecepatan\n",
    "    print(waktu)"
   ]
  },
  {
   "cell_type": "code",
   "execution_count": null,
   "id": "13757f54",
   "metadata": {},
   "outputs": [],
   "source": [
    "def waktu_tempuh(jarak,kecepatan):\n",
    "    waktu = jarak/kecepatan\n",
    "    return waktu"
   ]
  },
  {
   "cell_type": "code",
   "execution_count": null,
   "id": "e3816e99",
   "metadata": {},
   "outputs": [],
   "source": [
    "waktu_sampai(80,60)"
   ]
  },
  {
   "cell_type": "code",
   "execution_count": null,
   "id": "4605eead",
   "metadata": {},
   "outputs": [],
   "source": [
    "waktu_tempuh(80,60)"
   ]
  },
  {
   "cell_type": "code",
   "execution_count": null,
   "id": "2ea8ec60",
   "metadata": {},
   "outputs": [],
   "source": [
    "a = waktu_sampai(80,60)\n",
    "print(a)"
   ]
  },
  {
   "cell_type": "code",
   "execution_count": null,
   "id": "a39bff04",
   "metadata": {},
   "outputs": [],
   "source": [
    "b = waktu_tempuh(80,60)\n",
    "print(b)"
   ]
  },
  {
   "cell_type": "markdown",
   "id": "ed7df80f",
   "metadata": {},
   "source": [
    "# Latihan\n",
    "buatlah program yang menggunakan fungsi di python untuk mengitung luas segitiga, lingkaran, persegi dan persegi panjang.selain itu berikan peringatan bagi bidang lain yang tidak termasuk dalam perhitungan."
   ]
  },
  {
   "cell_type": "code",
   "execution_count": null,
   "id": "691523cb",
   "metadata": {},
   "outputs": [],
   "source": [
    "import numpy as np"
   ]
  },
  {
   "cell_type": "code",
   "execution_count": null,
   "id": "c03bdcd6",
   "metadata": {},
   "outputs": [],
   "source": [
    "def luas_segitiga(alas,tinggi):\n",
    "    luas = (1/2)*alas*tinggi\n",
    "    return luas\n",
    "def luas_lingkaran(jari_jari):\n",
    "    luas = np.pi*(jari_jari**2)\n",
    "    return luas\n",
    "def luas_persegi(sisi):\n",
    "    luas = sisi**2\n",
    "    return luas\n",
    "def luas_persegi_panjang(panjang,lebar):\n",
    "    luas = panjang*lebar\n",
    "    return luas\n",
    "\n"
   ]
  },
  {
   "cell_type": "code",
   "execution_count": null,
   "id": "2375a9fd",
   "metadata": {},
   "outputs": [],
   "source": [
    "jenis_bidang = input(\"Tulis jenis bidangnya \")\n",
    "if jenis_bidang.upper() == 'SEGITIGA':\n",
    "    alas = float(input('Berapakah panjang alasnya? '))\n",
    "    tinggi = float(input('Berapakah tingginya? '))\n",
    "    Luas = luas_segitiga(alas,tinggi)\n",
    "    print(f\"Luas {jenis-bidang}) adalah {luas}\")\n",
    "elif jenis_bidang.upper() == 'LINGKARAN':\n",
    "    alas = float(input('Berapakah panjang jari-jarinya? '))\n",
    "    Luas = luas_lingkaran(jari_jari)\n",
    "    print(f\"Luas {jenis-bidang}) adalah {luas}\")\n",
    "elif jenis_bidang.upper() == 'PERSEGI': or (jenis_bidang.upper() == 'BUJUR SANGKAR'):\n",
    "    sisi = float(input('Berapakah panjang sisinya? '))\n",
    "    Luas = luas_persegi(sisi)\n",
    "    print(f\"Luas {jenis-bidang}) adalah {luas}\")\n",
    "elif jenis_bidang.upper() == 'PERSEGI PANJANG':\n",
    "    panjang = float(input('Berapakah panjangnya? '))\n",
    "    lebar = float(input('Berapakah lebarnya? '))\n",
    "    Luas = luas_persegi_panjang(panjang,lebar)\n",
    "    print(f\"Luas {jenis-bidang}) adalah {luas}\")\n",
    "else:\n",
    "    print(f\"Maaf bidang {jenis_bidang} yang anda masukkan tidak ada.\")\n",
    "    print(\"pilihan cuma SEGITIGA,LINGKARAN,PERSEGI dan PERSEGI PANJANG.\")\n",
    "    print('Terimakasih')\n"
   ]
  },
  {
   "cell_type": "code",
   "execution_count": null,
   "id": "38638dfd",
   "metadata": {},
   "outputs": [],
   "source": []
  }
 ],
 "metadata": {
  "kernelspec": {
   "display_name": "Python 3 (ipykernel)",
   "language": "python",
   "name": "python3"
  },
  "language_info": {
   "codemirror_mode": {
    "name": "ipython",
    "version": 3
   },
   "file_extension": ".py",
   "mimetype": "text/x-python",
   "name": "python",
   "nbconvert_exporter": "python",
   "pygments_lexer": "ipython3",
   "version": "3.9.7"
  }
 },
 "nbformat": 4,
 "nbformat_minor": 5
}
