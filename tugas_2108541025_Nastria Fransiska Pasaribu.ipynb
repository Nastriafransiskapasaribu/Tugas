{
 "cells": [
  {
   "cell_type": "markdown",
   "id": "eef1d8f6",
   "metadata": {},
   "source": [
    "# PRINT"
   ]
  },
  {
   "cell_type": "code",
   "execution_count": 1,
   "id": "b19ba1aa",
   "metadata": {},
   "outputs": [
    {
     "name": "stdout",
     "output_type": "stream",
     "text": [
      "Ini Kelas Algoritma!\n"
     ]
    }
   ],
   "source": [
    "print('Ini Kelas Algoritma!')"
   ]
  },
  {
   "cell_type": "code",
   "execution_count": 2,
   "id": "0629e19f",
   "metadata": {},
   "outputs": [
    {
     "name": "stdout",
     "output_type": "stream",
     "text": [
      "Ini Kelas Algoritma\n"
     ]
    }
   ],
   "source": [
    "print(\"Ini Kelas Algoritma\")"
   ]
  },
  {
   "cell_type": "code",
   "execution_count": 3,
   "id": "ab5771a8",
   "metadata": {},
   "outputs": [
    {
     "name": "stdout",
     "output_type": "stream",
     "text": [
      "You Are Beautiful\n"
     ]
    }
   ],
   "source": [
    "print(\"You Are Beautiful\")"
   ]
  },
  {
   "cell_type": "code",
   "execution_count": 6,
   "id": "d9bf36ee",
   "metadata": {},
   "outputs": [
    {
     "name": "stdout",
     "output_type": "stream",
     "text": [
      "She's So skinny\n"
     ]
    }
   ],
   "source": [
    "print(\"She's So skinny\")"
   ]
  },
  {
   "cell_type": "code",
   "execution_count": 7,
   "id": "95ac3f46",
   "metadata": {},
   "outputs": [
    {
     "name": "stdout",
     "output_type": "stream",
     "text": [
      "25\n",
      "500000\n"
     ]
    }
   ],
   "source": [
    "mahasiswa = 25\n",
    "uang_di_dompet =20000\n",
    "print(mahasiswa)\n",
    "print(mahasiswa*uang_di_dompet)"
   ]
  },
  {
   "cell_type": "code",
   "execution_count": 10,
   "id": "f65f187a",
   "metadata": {},
   "outputs": [
    {
     "name": "stdout",
     "output_type": "stream",
     "text": [
      "Nastria Pasaribu\n"
     ]
    }
   ],
   "source": [
    "nama_depan = 'Nastria'\n",
    "nama_tengah = ' '\n",
    "nama_belakang = \"Pasaribu\"\n",
    "print(nama_depan + nama_tengah + nama_belakang)"
   ]
  },
  {
   "cell_type": "code",
   "execution_count": 1,
   "id": "50d5ecd8",
   "metadata": {},
   "outputs": [
    {
     "name": "stdout",
     "output_type": "stream",
     "text": [
      "Siapakah nama anda? nast\n",
      "Apakah kegiatan anda sekarang, nast? belajar algo\n",
      "Semangat belajar algonya yah, nast!\n"
     ]
    }
   ],
   "source": [
    "nama = input(\"Siapakah nama anda? \")\n",
    "kegiatan = input('Apakah kegiatan anda sekarang, ' + nama +\"? \")\n",
    "print(\"Semangat \"+ kegiatan +\"nya yah, \" + nama +\"!\")"
   ]
  },
  {
   "cell_type": "code",
   "execution_count": null,
   "id": "27af07ad",
   "metadata": {},
   "outputs": [],
   "source": [
    "uang_ke_mall = input(\"Berapakah jumlah uang ke mall anda? \")\n",
    "uang_di_bank = input(\"Berapakah jumlah uang anda di Bank? \")\n",
    "print(\"Total uang anda adalah Rp \" + uang_ke_mall + uang_di_Bank)"
   ]
  },
  {
   "cell_type": "markdown",
   "id": "4b8190a3",
   "metadata": {},
   "source": [
    "# Formatted string"
   ]
  },
  {
   "cell_type": "code",
   "execution_count": null,
   "id": "2185b2ca",
   "metadata": {},
   "outputs": [],
   "source": [
    "bilangan_satu =input(\"Masukkan bilangan pertama: \")\n",
    "bilangan_kedua =input(\"Masukkan bilangan kedua: \")\n",
    "jumlah = float(bilangan_satu) + float(bilangan_kedua)\n",
    "print(\"jumlah kedua bilangan adalah\"+ str(jumlah))\n",
    "\n",
    "Masukkan bilangan pertama: 3\n",
    "Masukkan bilangan kedua: 5\n",
    "Jumlah kedua bilangan adalah 8.0"
   ]
  },
  {
   "cell_type": "code",
   "execution_count": null,
   "id": "0119df1c",
   "metadata": {},
   "outputs": [],
   "source": [
    "nama = \"Fransiska\"\n",
    "pekerjaan = \"pengusaha\"\n",
    "institusi = \"PT philips\"\n",
    "print(nama + \"adalah seorang \"\" + pekerjaan + \"\" di \"\" + institusi +'.')"
   ]
  },
  {
   "cell_type": "code",
   "execution_count": null,
   "id": "8c9ad18e",
   "metadata": {},
   "outputs": [],
   "source": [
    "print(f'{nama} adalah seorang {pekerjaan} di {institusi}. ')\n"
   ]
  },
  {
   "cell_type": "code",
   "execution_count": null,
   "id": "10aa1726",
   "metadata": {},
   "outputs": [],
   "source": [
    "print(f\"{nama} adalah seorang {pekerjaan} di {institusi}.\"\")"
   ]
  },
  {
   "cell_type": "markdown",
   "id": "298beb16",
   "metadata": {},
   "source": [
    "# string index "
   ]
  },
  {
   "cell_type": "code",
   "execution_count": null,
   "id": "f561c72b",
   "metadata": {},
   "outputs": [],
   "source": [
    "kelas = 'ini kelas algoritma'"
   ]
  },
  {
   "cell_type": "code",
   "execution_count": null,
   "id": "3966f52a",
   "metadata": {},
   "outputs": [],
   "source": [
    "print(kelas[0;3])"
   ]
  },
  {
   "cell_type": "code",
   "execution_count": null,
   "id": "31932761",
   "metadata": {},
   "outputs": [],
   "source": [
    "print(kelas[0:-1]"
   ]
  },
  {
   "cell_type": "code",
   "execution_count": null,
   "id": "519108fe",
   "metadata": {},
   "outputs": [],
   "source": [
    "print(kelas[5:-1])"
   ]
  },
  {
   "cell_type": "code",
   "execution_count": null,
   "id": "7e6d1180",
   "metadata": {},
   "outputs": [],
   "source": [
    "print(kelas[2:-1:3])"
   ]
  },
  {
   "cell_type": "code",
   "execution_count": null,
   "id": "585887a8",
   "metadata": {},
   "outputs": [],
   "source": [
    "print(kelas[:-3])"
   ]
  },
  {
   "cell_type": "code",
   "execution_count": null,
   "id": "c32a8671",
   "metadata": {},
   "outputs": [],
   "source": [
    "print(kelas[1:])"
   ]
  },
  {
   "cell_type": "markdown",
   "id": "4cf80ded",
   "metadata": {},
   "source": [
    "# string methods"
   ]
  },
  {
   "cell_type": "code",
   "execution_count": 3,
   "id": "3463985d",
   "metadata": {},
   "outputs": [],
   "source": [
    "judul = 'Bali Surga Dunia'"
   ]
  },
  {
   "cell_type": "code",
   "execution_count": 4,
   "id": "4cdfe1ac",
   "metadata": {},
   "outputs": [
    {
     "name": "stdout",
     "output_type": "stream",
     "text": [
      "16\n"
     ]
    }
   ],
   "source": [
    "print(len(judul))"
   ]
  },
  {
   "cell_type": "code",
   "execution_count": null,
   "id": "cb5cd21b",
   "metadata": {},
   "outputs": [],
   "source": [
    "judul.upper()"
   ]
  },
  {
   "cell_type": "code",
   "execution_count": null,
   "id": "f6600c75",
   "metadata": {},
   "outputs": [],
   "source": [
    "judul.lower()"
   ]
  },
  {
   "cell_type": "code",
   "execution_count": null,
   "id": "2bcc8f13",
   "metadata": {},
   "outputs": [],
   "source": [
    "judul.find('surga')"
   ]
  },
  {
   "cell_type": "code",
   "execution_count": null,
   "id": "85d9b214",
   "metadata": {},
   "outputs": [],
   "source": [
    "judul.find('Bali')"
   ]
  },
  {
   "cell_type": "code",
   "execution_count": null,
   "id": "ae1b9126",
   "metadata": {},
   "outputs": [],
   "source": [
    "judul.replace('Bali', 'Indonesia')"
   ]
  },
  {
   "cell_type": "code",
   "execution_count": null,
   "id": "a6ce5d99",
   "metadata": {},
   "outputs": [],
   "source": [
    "print('Bali' in judul)"
   ]
  },
  {
   "cell_type": "code",
   "execution_count": null,
   "id": "15a2a56b",
   "metadata": {},
   "outputs": [],
   "source": [
    "print('bali' in judul)"
   ]
  },
  {
   "cell_type": "markdown",
   "id": "6ae81862",
   "metadata": {},
   "source": [
    "# matematika di python"
   ]
  },
  {
   "cell_type": "code",
   "execution_count": null,
   "id": "ada1e01d",
   "metadata": {},
   "outputs": [],
   "source": [
    "print(2+3)\n",
    "print(2-3)\n",
    "print(2*3)\n",
    "print(7/3)\n",
    "print(7//3)\n",
    "print(7%3)\n",
    "print(2**3)\n",
    "x=3\n",
    "x+=1\n",
    "print(x)\n",
    "x-=2\n",
    "print(x)\n",
    "x*=3\n",
    "print(x)"
   ]
  },
  {
   "cell_type": "markdown",
   "id": "f972bf55",
   "metadata": {},
   "source": [
    "# operator logika di python"
   ]
  },
  {
   "cell_type": "code",
   "execution_count": null,
   "id": "a74f7fe8",
   "metadata": {},
   "outputs": [],
   "source": [
    "buah_manggis = 10\n",
    "buah_mangga = 15\n",
    "print(buah_manggis > 8 and buah_mangga< 20)"
   ]
  },
  {
   "cell_type": "code",
   "execution_count": null,
   "id": "081e7363",
   "metadata": {},
   "outputs": [],
   "source": [
    "print(buah_manggis <8 or buah_mangga > 20)"
   ]
  },
  {
   "cell_type": "code",
   "execution_count": null,
   "id": "fbd510d6",
   "metadata": {},
   "outputs": [],
   "source": [
    "print(buah_manggis < 8 or buah_mangga >20)"
   ]
  },
  {
   "cell_type": "code",
   "execution_count": null,
   "id": "28ff3057",
   "metadata": {},
   "outputs": [],
   "source": [
    "print(not (buah_manggis <8  buah_mangga > 20))"
   ]
  },
  {
   "cell_type": "markdown",
   "id": "3c28a893",
   "metadata": {},
   "source": [
    "# operator if di python"
   ]
  },
  {
   "cell_type": "code",
   "execution_count": null,
   "id": "19a8ca82",
   "metadata": {},
   "outputs": [],
   "source": [
    "nilai= float(input(\"Nilai anda adalah \"))\n",
    "if nilai >= 80:\n",
    "    print(\"Anda mendapatkan nilai A\")\n",
    "    print(\"Bagus sekali, selamat!\")\n",
    "if nilai < 80 and nilai >= 70:\n",
    "    print(\"Anda mendapatkan nilai 8\")\n",
    "    print(\"tingkatkan prestasimu!\")\n",
    "if nilai>= 60 and nilai < 60:\n",
    "    print(\"Anda mendapatkan nilai C\")\n",
    "    print(\"Lain kali musti lebih baik\")\n",
    "if nilai >= 50 and nilai <= 60:\n",
    "    print(\"Anda mendapatkan nilai D\")\n",
    "    print(\"Ulang lagi tahun depan\")\n",
    "if nilai < 50:\n",
    "    print(\"Anda mendapatkan nilai E\")\n",
    "    print(\"Sampai jumpa tahun depan\")\n",
    "\n"
   ]
  },
  {
   "cell_type": "code",
   "execution_count": null,
   "id": "e65a21a3",
   "metadata": {},
   "outputs": [],
   "source": []
  },
  {
   "cell_type": "code",
   "execution_count": null,
   "id": "9896fd75",
   "metadata": {},
   "outputs": [],
   "source": [
    "tinggi = float(input(\"Berapakah tinggi anda? \"))\n",
    "cm_atau_inci = input(\"Tingginya dalam cm atau in i? \")\n",
    "\n",
    "if cm_atau_inci.upper() == 'CM':\n",
    "    tinggi = tinggi*0.393701\n",
    "    print(\"Tinggi anda adalah \" + str(tinggi) + \" inci\"\n",
    "elif cm_atau_inci.uper() == 'INCI' :\n",
    "          tinggi = tinggi/0.393701\n",
    "          print(f\"tinggi anda adalah {tinggi} cm\")"
   ]
  },
  {
   "cell_type": "markdown",
   "id": "475dc8ed",
   "metadata": {},
   "source": [
    "# while loop"
   ]
  },
  {
   "cell_type": "code",
   "execution_count": null,
   "id": "8032a6b5",
   "metadata": {},
   "outputs": [],
   "source": [
    "a = 0\n",
    "while a < 5:\n",
    "    print(\"Angka \" + str(a)+\" masih dibawah 5\")\n",
    "    a += 1\n",
    "    "
   ]
  },
  {
   "cell_type": "code",
   "execution_count": null,
   "id": "5e8ea9e9",
   "metadata": {},
   "outputs": [],
   "source": []
  }
 ],
 "metadata": {
  "kernelspec": {
   "display_name": "Python 3 (ipykernel)",
   "language": "python",
   "name": "python3"
  },
  "language_info": {
   "codemirror_mode": {
    "name": "ipython",
    "version": 3
   },
   "file_extension": ".py",
   "mimetype": "text/x-python",
   "name": "python",
   "nbconvert_exporter": "python",
   "pygments_lexer": "ipython3",
   "version": "3.9.7"
  }
 },
 "nbformat": 4,
 "nbformat_minor": 5
}
